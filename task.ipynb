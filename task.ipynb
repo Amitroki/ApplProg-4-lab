{
 "cells": [
  {
   "cell_type": "code",
   "execution_count": 14,
   "metadata": {},
   "outputs": [],
   "source": [
    "import pandas as pd\n",
    "import cv2"
   ]
  },
  {
   "cell_type": "markdown",
   "metadata": {},
   "source": [
    "Выполнение заданий 1 и 2:"
   ]
  },
  {
   "cell_type": "code",
   "execution_count": 15,
   "metadata": {},
   "outputs": [
    {
     "data": {
      "text/html": [
       "<div>\n",
       "<style scoped>\n",
       "    .dataframe tbody tr th:only-of-type {\n",
       "        vertical-align: middle;\n",
       "    }\n",
       "\n",
       "    .dataframe tbody tr th {\n",
       "        vertical-align: top;\n",
       "    }\n",
       "\n",
       "    .dataframe thead th {\n",
       "        text-align: right;\n",
       "    }\n",
       "</style>\n",
       "<table border=\"1\" class=\"dataframe\">\n",
       "  <thead>\n",
       "    <tr style=\"text-align: right;\">\n",
       "      <th></th>\n",
       "      <th>AbsPath</th>\n",
       "      <th>Name</th>\n",
       "    </tr>\n",
       "  </thead>\n",
       "  <tbody>\n",
       "    <tr>\n",
       "      <th>0</th>\n",
       "      <td>C:\\Users\\Alex\\Desktop\\dataset\\bay_horse\\0001.jpg</td>\n",
       "      <td>bay_horse</td>\n",
       "    </tr>\n",
       "    <tr>\n",
       "      <th>1</th>\n",
       "      <td>C:\\Users\\Alex\\Desktop\\dataset\\bay_horse\\0002.jpg</td>\n",
       "      <td>bay_horse</td>\n",
       "    </tr>\n",
       "    <tr>\n",
       "      <th>2</th>\n",
       "      <td>C:\\Users\\Alex\\Desktop\\dataset\\bay_horse\\0003.jpg</td>\n",
       "      <td>bay_horse</td>\n",
       "    </tr>\n",
       "    <tr>\n",
       "      <th>3</th>\n",
       "      <td>C:\\Users\\Alex\\Desktop\\dataset\\bay_horse\\0004.jpg</td>\n",
       "      <td>bay_horse</td>\n",
       "    </tr>\n",
       "    <tr>\n",
       "      <th>4</th>\n",
       "      <td>C:\\Users\\Alex\\Desktop\\dataset\\bay_horse\\0005.jpg</td>\n",
       "      <td>bay_horse</td>\n",
       "    </tr>\n",
       "    <tr>\n",
       "      <th>2192</th>\n",
       "      <td>C:\\Users\\Alex\\Desktop\\dataset\\zebra\\1044.jpg</td>\n",
       "      <td>zebra</td>\n",
       "    </tr>\n",
       "    <tr>\n",
       "      <th>2193</th>\n",
       "      <td>C:\\Users\\Alex\\Desktop\\dataset\\zebra\\1045.jpg</td>\n",
       "      <td>zebra</td>\n",
       "    </tr>\n",
       "    <tr>\n",
       "      <th>2194</th>\n",
       "      <td>C:\\Users\\Alex\\Desktop\\dataset\\zebra\\1046.jpg</td>\n",
       "      <td>zebra</td>\n",
       "    </tr>\n",
       "    <tr>\n",
       "      <th>2195</th>\n",
       "      <td>C:\\Users\\Alex\\Desktop\\dataset\\zebra\\1047.jpg</td>\n",
       "      <td>zebra</td>\n",
       "    </tr>\n",
       "    <tr>\n",
       "      <th>2196</th>\n",
       "      <td>C:\\Users\\Alex\\Desktop\\dataset\\zebra\\1048.jpg</td>\n",
       "      <td>zebra</td>\n",
       "    </tr>\n",
       "  </tbody>\n",
       "</table>\n",
       "</div>"
      ],
      "text/plain": [
       "                                               AbsPath       Name\n",
       "0     C:\\Users\\Alex\\Desktop\\dataset\\bay_horse\\0001.jpg  bay_horse\n",
       "1     C:\\Users\\Alex\\Desktop\\dataset\\bay_horse\\0002.jpg  bay_horse\n",
       "2     C:\\Users\\Alex\\Desktop\\dataset\\bay_horse\\0003.jpg  bay_horse\n",
       "3     C:\\Users\\Alex\\Desktop\\dataset\\bay_horse\\0004.jpg  bay_horse\n",
       "4     C:\\Users\\Alex\\Desktop\\dataset\\bay_horse\\0005.jpg  bay_horse\n",
       "2192      C:\\Users\\Alex\\Desktop\\dataset\\zebra\\1044.jpg      zebra\n",
       "2193      C:\\Users\\Alex\\Desktop\\dataset\\zebra\\1045.jpg      zebra\n",
       "2194      C:\\Users\\Alex\\Desktop\\dataset\\zebra\\1046.jpg      zebra\n",
       "2195      C:\\Users\\Alex\\Desktop\\dataset\\zebra\\1047.jpg      zebra\n",
       "2196      C:\\Users\\Alex\\Desktop\\dataset\\zebra\\1048.jpg      zebra"
      ]
     },
     "execution_count": 15,
     "metadata": {},
     "output_type": "execute_result"
    }
   ],
   "source": [
    "df = pd.read_csv('annotation.csv', delimiter=',', usecols = (0, 2), names = ('AbsPath', 'Name'))\n",
    "pd.concat([df.head(), df.tail()])"
   ]
  },
  {
   "cell_type": "markdown",
   "metadata": {},
   "source": [
    "Выполнение задания 3:"
   ]
  },
  {
   "cell_type": "code",
   "execution_count": 16,
   "metadata": {},
   "outputs": [
    {
     "data": {
      "text/html": [
       "<div>\n",
       "<style scoped>\n",
       "    .dataframe tbody tr th:only-of-type {\n",
       "        vertical-align: middle;\n",
       "    }\n",
       "\n",
       "    .dataframe tbody tr th {\n",
       "        vertical-align: top;\n",
       "    }\n",
       "\n",
       "    .dataframe thead th {\n",
       "        text-align: right;\n",
       "    }\n",
       "</style>\n",
       "<table border=\"1\" class=\"dataframe\">\n",
       "  <thead>\n",
       "    <tr style=\"text-align: right;\">\n",
       "      <th></th>\n",
       "      <th>AbsPath</th>\n",
       "      <th>Name</th>\n",
       "      <th>Class</th>\n",
       "    </tr>\n",
       "  </thead>\n",
       "  <tbody>\n",
       "    <tr>\n",
       "      <th>0</th>\n",
       "      <td>C:\\Users\\Alex\\Desktop\\dataset\\bay_horse\\0001.jpg</td>\n",
       "      <td>bay_horse</td>\n",
       "      <td>0</td>\n",
       "    </tr>\n",
       "    <tr>\n",
       "      <th>1</th>\n",
       "      <td>C:\\Users\\Alex\\Desktop\\dataset\\bay_horse\\0002.jpg</td>\n",
       "      <td>bay_horse</td>\n",
       "      <td>0</td>\n",
       "    </tr>\n",
       "    <tr>\n",
       "      <th>2</th>\n",
       "      <td>C:\\Users\\Alex\\Desktop\\dataset\\bay_horse\\0003.jpg</td>\n",
       "      <td>bay_horse</td>\n",
       "      <td>0</td>\n",
       "    </tr>\n",
       "    <tr>\n",
       "      <th>3</th>\n",
       "      <td>C:\\Users\\Alex\\Desktop\\dataset\\bay_horse\\0004.jpg</td>\n",
       "      <td>bay_horse</td>\n",
       "      <td>0</td>\n",
       "    </tr>\n",
       "    <tr>\n",
       "      <th>4</th>\n",
       "      <td>C:\\Users\\Alex\\Desktop\\dataset\\bay_horse\\0005.jpg</td>\n",
       "      <td>bay_horse</td>\n",
       "      <td>0</td>\n",
       "    </tr>\n",
       "    <tr>\n",
       "      <th>2192</th>\n",
       "      <td>C:\\Users\\Alex\\Desktop\\dataset\\zebra\\1044.jpg</td>\n",
       "      <td>zebra</td>\n",
       "      <td>1</td>\n",
       "    </tr>\n",
       "    <tr>\n",
       "      <th>2193</th>\n",
       "      <td>C:\\Users\\Alex\\Desktop\\dataset\\zebra\\1045.jpg</td>\n",
       "      <td>zebra</td>\n",
       "      <td>1</td>\n",
       "    </tr>\n",
       "    <tr>\n",
       "      <th>2194</th>\n",
       "      <td>C:\\Users\\Alex\\Desktop\\dataset\\zebra\\1046.jpg</td>\n",
       "      <td>zebra</td>\n",
       "      <td>1</td>\n",
       "    </tr>\n",
       "    <tr>\n",
       "      <th>2195</th>\n",
       "      <td>C:\\Users\\Alex\\Desktop\\dataset\\zebra\\1047.jpg</td>\n",
       "      <td>zebra</td>\n",
       "      <td>1</td>\n",
       "    </tr>\n",
       "    <tr>\n",
       "      <th>2196</th>\n",
       "      <td>C:\\Users\\Alex\\Desktop\\dataset\\zebra\\1048.jpg</td>\n",
       "      <td>zebra</td>\n",
       "      <td>1</td>\n",
       "    </tr>\n",
       "  </tbody>\n",
       "</table>\n",
       "</div>"
      ],
      "text/plain": [
       "                                               AbsPath       Name  Class\n",
       "0     C:\\Users\\Alex\\Desktop\\dataset\\bay_horse\\0001.jpg  bay_horse      0\n",
       "1     C:\\Users\\Alex\\Desktop\\dataset\\bay_horse\\0002.jpg  bay_horse      0\n",
       "2     C:\\Users\\Alex\\Desktop\\dataset\\bay_horse\\0003.jpg  bay_horse      0\n",
       "3     C:\\Users\\Alex\\Desktop\\dataset\\bay_horse\\0004.jpg  bay_horse      0\n",
       "4     C:\\Users\\Alex\\Desktop\\dataset\\bay_horse\\0005.jpg  bay_horse      0\n",
       "2192      C:\\Users\\Alex\\Desktop\\dataset\\zebra\\1044.jpg      zebra      1\n",
       "2193      C:\\Users\\Alex\\Desktop\\dataset\\zebra\\1045.jpg      zebra      1\n",
       "2194      C:\\Users\\Alex\\Desktop\\dataset\\zebra\\1046.jpg      zebra      1\n",
       "2195      C:\\Users\\Alex\\Desktop\\dataset\\zebra\\1047.jpg      zebra      1\n",
       "2196      C:\\Users\\Alex\\Desktop\\dataset\\zebra\\1048.jpg      zebra      1"
      ]
     },
     "execution_count": 16,
     "metadata": {},
     "output_type": "execute_result"
    }
   ],
   "source": [
    "df['Class'] = df['Name'].apply(lambda name: 0 if name == 'bay_horse' else 1)\n",
    "pd.concat([df.head(), df.tail()])"
   ]
  },
  {
   "cell_type": "markdown",
   "metadata": {},
   "source": [
    "Выполнение задания 4:"
   ]
  },
  {
   "cell_type": "code",
   "execution_count": null,
   "metadata": {},
   "outputs": [],
   "source": [
    "\"\"\"def get_image_dimensions(image_path):\n",
    "    image = cv2.imread(image_path)\n",
    "    height, width, depth = image.shape\n",
    "    return height, width, depth\"\"\"\n",
    "#df['Height'], df['Weight'], df['Depth'] = zip(*df['AbsPath'].map(get_image_dimensions))\n",
    "df['Height'] = df['AbsPath'].apply(lambda path: cv2.imread(path).shape[0])\n",
    "df['Weight'] = df['AbsPath'].apply(lambda path: cv2.imread(path).shape[1])\n",
    "df['Depth'] = df['AbsPath'].apply(lambda path: cv2.imread(path).shape[2])"
   ]
  },
  {
   "cell_type": "code",
   "execution_count": null,
   "metadata": {},
   "outputs": [],
   "source": []
  }
 ],
 "metadata": {
  "kernelspec": {
   "display_name": "Python 3",
   "language": "python",
   "name": "python3"
  },
  "language_info": {
   "codemirror_mode": {
    "name": "ipython",
    "version": 3
   },
   "file_extension": ".py",
   "mimetype": "text/x-python",
   "name": "python",
   "nbconvert_exporter": "python",
   "pygments_lexer": "ipython3",
   "version": "3.8.10"
  }
 },
 "nbformat": 4,
 "nbformat_minor": 2
}
