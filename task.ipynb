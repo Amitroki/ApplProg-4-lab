{
 "cells": [
  {
   "cell_type": "code",
   "execution_count": 23,
   "metadata": {},
   "outputs": [],
   "source": [
    "import pandas as pd\n",
    "import cv2"
   ]
  },
  {
   "cell_type": "markdown",
   "metadata": {},
   "source": [
    "Выполнение заданий 1 и 2:"
   ]
  },
  {
   "cell_type": "code",
   "execution_count": 24,
   "metadata": {},
   "outputs": [
    {
     "data": {
      "text/html": [
       "<div>\n",
       "<style scoped>\n",
       "    .dataframe tbody tr th:only-of-type {\n",
       "        vertical-align: middle;\n",
       "    }\n",
       "\n",
       "    .dataframe tbody tr th {\n",
       "        vertical-align: top;\n",
       "    }\n",
       "\n",
       "    .dataframe thead th {\n",
       "        text-align: right;\n",
       "    }\n",
       "</style>\n",
       "<table border=\"1\" class=\"dataframe\">\n",
       "  <thead>\n",
       "    <tr style=\"text-align: right;\">\n",
       "      <th></th>\n",
       "      <th>AbsPath</th>\n",
       "      <th>Name</th>\n",
       "    </tr>\n",
       "  </thead>\n",
       "  <tbody>\n",
       "    <tr>\n",
       "      <th>0</th>\n",
       "      <td>C:\\Users\\Alex\\Desktop\\dataset\\bay_horse\\0001.jpg</td>\n",
       "      <td>bay_horse</td>\n",
       "    </tr>\n",
       "    <tr>\n",
       "      <th>1</th>\n",
       "      <td>C:\\Users\\Alex\\Desktop\\dataset\\bay_horse\\0002.jpg</td>\n",
       "      <td>bay_horse</td>\n",
       "    </tr>\n",
       "    <tr>\n",
       "      <th>2</th>\n",
       "      <td>C:\\Users\\Alex\\Desktop\\dataset\\bay_horse\\0003.jpg</td>\n",
       "      <td>bay_horse</td>\n",
       "    </tr>\n",
       "    <tr>\n",
       "      <th>3</th>\n",
       "      <td>C:\\Users\\Alex\\Desktop\\dataset\\bay_horse\\0004.jpg</td>\n",
       "      <td>bay_horse</td>\n",
       "    </tr>\n",
       "    <tr>\n",
       "      <th>4</th>\n",
       "      <td>C:\\Users\\Alex\\Desktop\\dataset\\bay_horse\\0005.jpg</td>\n",
       "      <td>bay_horse</td>\n",
       "    </tr>\n",
       "    <tr>\n",
       "      <th>2192</th>\n",
       "      <td>C:\\Users\\Alex\\Desktop\\dataset\\zebra\\1044.jpg</td>\n",
       "      <td>zebra</td>\n",
       "    </tr>\n",
       "    <tr>\n",
       "      <th>2193</th>\n",
       "      <td>C:\\Users\\Alex\\Desktop\\dataset\\zebra\\1045.jpg</td>\n",
       "      <td>zebra</td>\n",
       "    </tr>\n",
       "    <tr>\n",
       "      <th>2194</th>\n",
       "      <td>C:\\Users\\Alex\\Desktop\\dataset\\zebra\\1046.jpg</td>\n",
       "      <td>zebra</td>\n",
       "    </tr>\n",
       "    <tr>\n",
       "      <th>2195</th>\n",
       "      <td>C:\\Users\\Alex\\Desktop\\dataset\\zebra\\1047.jpg</td>\n",
       "      <td>zebra</td>\n",
       "    </tr>\n",
       "    <tr>\n",
       "      <th>2196</th>\n",
       "      <td>C:\\Users\\Alex\\Desktop\\dataset\\zebra\\1048.jpg</td>\n",
       "      <td>zebra</td>\n",
       "    </tr>\n",
       "  </tbody>\n",
       "</table>\n",
       "</div>"
      ],
      "text/plain": [
       "                                               AbsPath       Name\n",
       "0     C:\\Users\\Alex\\Desktop\\dataset\\bay_horse\\0001.jpg  bay_horse\n",
       "1     C:\\Users\\Alex\\Desktop\\dataset\\bay_horse\\0002.jpg  bay_horse\n",
       "2     C:\\Users\\Alex\\Desktop\\dataset\\bay_horse\\0003.jpg  bay_horse\n",
       "3     C:\\Users\\Alex\\Desktop\\dataset\\bay_horse\\0004.jpg  bay_horse\n",
       "4     C:\\Users\\Alex\\Desktop\\dataset\\bay_horse\\0005.jpg  bay_horse\n",
       "2192      C:\\Users\\Alex\\Desktop\\dataset\\zebra\\1044.jpg      zebra\n",
       "2193      C:\\Users\\Alex\\Desktop\\dataset\\zebra\\1045.jpg      zebra\n",
       "2194      C:\\Users\\Alex\\Desktop\\dataset\\zebra\\1046.jpg      zebra\n",
       "2195      C:\\Users\\Alex\\Desktop\\dataset\\zebra\\1047.jpg      zebra\n",
       "2196      C:\\Users\\Alex\\Desktop\\dataset\\zebra\\1048.jpg      zebra"
      ]
     },
     "execution_count": 24,
     "metadata": {},
     "output_type": "execute_result"
    }
   ],
   "source": [
    "df = pd.read_csv('annotation.csv', delimiter=',', usecols = (0, 2), names = ('AbsPath', 'Name'))\n",
    "pd.concat([df.head(), df.tail()])"
   ]
  },
  {
   "cell_type": "markdown",
   "metadata": {},
   "source": [
    "Выполнение задания 3:"
   ]
  },
  {
   "cell_type": "code",
   "execution_count": 25,
   "metadata": {},
   "outputs": [
    {
     "data": {
      "text/html": [
       "<div>\n",
       "<style scoped>\n",
       "    .dataframe tbody tr th:only-of-type {\n",
       "        vertical-align: middle;\n",
       "    }\n",
       "\n",
       "    .dataframe tbody tr th {\n",
       "        vertical-align: top;\n",
       "    }\n",
       "\n",
       "    .dataframe thead th {\n",
       "        text-align: right;\n",
       "    }\n",
       "</style>\n",
       "<table border=\"1\" class=\"dataframe\">\n",
       "  <thead>\n",
       "    <tr style=\"text-align: right;\">\n",
       "      <th></th>\n",
       "      <th>AbsPath</th>\n",
       "      <th>Name</th>\n",
       "      <th>Class</th>\n",
       "    </tr>\n",
       "  </thead>\n",
       "  <tbody>\n",
       "    <tr>\n",
       "      <th>0</th>\n",
       "      <td>C:\\Users\\Alex\\Desktop\\dataset\\bay_horse\\0001.jpg</td>\n",
       "      <td>bay_horse</td>\n",
       "      <td>0</td>\n",
       "    </tr>\n",
       "    <tr>\n",
       "      <th>1</th>\n",
       "      <td>C:\\Users\\Alex\\Desktop\\dataset\\bay_horse\\0002.jpg</td>\n",
       "      <td>bay_horse</td>\n",
       "      <td>0</td>\n",
       "    </tr>\n",
       "    <tr>\n",
       "      <th>2</th>\n",
       "      <td>C:\\Users\\Alex\\Desktop\\dataset\\bay_horse\\0003.jpg</td>\n",
       "      <td>bay_horse</td>\n",
       "      <td>0</td>\n",
       "    </tr>\n",
       "    <tr>\n",
       "      <th>3</th>\n",
       "      <td>C:\\Users\\Alex\\Desktop\\dataset\\bay_horse\\0004.jpg</td>\n",
       "      <td>bay_horse</td>\n",
       "      <td>0</td>\n",
       "    </tr>\n",
       "    <tr>\n",
       "      <th>4</th>\n",
       "      <td>C:\\Users\\Alex\\Desktop\\dataset\\bay_horse\\0005.jpg</td>\n",
       "      <td>bay_horse</td>\n",
       "      <td>0</td>\n",
       "    </tr>\n",
       "    <tr>\n",
       "      <th>2192</th>\n",
       "      <td>C:\\Users\\Alex\\Desktop\\dataset\\zebra\\1044.jpg</td>\n",
       "      <td>zebra</td>\n",
       "      <td>1</td>\n",
       "    </tr>\n",
       "    <tr>\n",
       "      <th>2193</th>\n",
       "      <td>C:\\Users\\Alex\\Desktop\\dataset\\zebra\\1045.jpg</td>\n",
       "      <td>zebra</td>\n",
       "      <td>1</td>\n",
       "    </tr>\n",
       "    <tr>\n",
       "      <th>2194</th>\n",
       "      <td>C:\\Users\\Alex\\Desktop\\dataset\\zebra\\1046.jpg</td>\n",
       "      <td>zebra</td>\n",
       "      <td>1</td>\n",
       "    </tr>\n",
       "    <tr>\n",
       "      <th>2195</th>\n",
       "      <td>C:\\Users\\Alex\\Desktop\\dataset\\zebra\\1047.jpg</td>\n",
       "      <td>zebra</td>\n",
       "      <td>1</td>\n",
       "    </tr>\n",
       "    <tr>\n",
       "      <th>2196</th>\n",
       "      <td>C:\\Users\\Alex\\Desktop\\dataset\\zebra\\1048.jpg</td>\n",
       "      <td>zebra</td>\n",
       "      <td>1</td>\n",
       "    </tr>\n",
       "  </tbody>\n",
       "</table>\n",
       "</div>"
      ],
      "text/plain": [
       "                                               AbsPath       Name  Class\n",
       "0     C:\\Users\\Alex\\Desktop\\dataset\\bay_horse\\0001.jpg  bay_horse      0\n",
       "1     C:\\Users\\Alex\\Desktop\\dataset\\bay_horse\\0002.jpg  bay_horse      0\n",
       "2     C:\\Users\\Alex\\Desktop\\dataset\\bay_horse\\0003.jpg  bay_horse      0\n",
       "3     C:\\Users\\Alex\\Desktop\\dataset\\bay_horse\\0004.jpg  bay_horse      0\n",
       "4     C:\\Users\\Alex\\Desktop\\dataset\\bay_horse\\0005.jpg  bay_horse      0\n",
       "2192      C:\\Users\\Alex\\Desktop\\dataset\\zebra\\1044.jpg      zebra      1\n",
       "2193      C:\\Users\\Alex\\Desktop\\dataset\\zebra\\1045.jpg      zebra      1\n",
       "2194      C:\\Users\\Alex\\Desktop\\dataset\\zebra\\1046.jpg      zebra      1\n",
       "2195      C:\\Users\\Alex\\Desktop\\dataset\\zebra\\1047.jpg      zebra      1\n",
       "2196      C:\\Users\\Alex\\Desktop\\dataset\\zebra\\1048.jpg      zebra      1"
      ]
     },
     "execution_count": 25,
     "metadata": {},
     "output_type": "execute_result"
    }
   ],
   "source": [
    "df['Class'] = df['Name'].apply(lambda name: 0 if name == 'bay_horse' else 1)\n",
    "pd.concat([df.head(), df.tail()])"
   ]
  },
  {
   "cell_type": "markdown",
   "metadata": {},
   "source": [
    "Выполнение задания 4:"
   ]
  },
  {
   "cell_type": "code",
   "execution_count": 26,
   "metadata": {},
   "outputs": [
    {
     "data": {
      "text/html": [
       "<div>\n",
       "<style scoped>\n",
       "    .dataframe tbody tr th:only-of-type {\n",
       "        vertical-align: middle;\n",
       "    }\n",
       "\n",
       "    .dataframe tbody tr th {\n",
       "        vertical-align: top;\n",
       "    }\n",
       "\n",
       "    .dataframe thead th {\n",
       "        text-align: right;\n",
       "    }\n",
       "</style>\n",
       "<table border=\"1\" class=\"dataframe\">\n",
       "  <thead>\n",
       "    <tr style=\"text-align: right;\">\n",
       "      <th></th>\n",
       "      <th>AbsPath</th>\n",
       "      <th>Name</th>\n",
       "      <th>Class</th>\n",
       "      <th>Height</th>\n",
       "      <th>Width</th>\n",
       "      <th>Depth</th>\n",
       "    </tr>\n",
       "  </thead>\n",
       "  <tbody>\n",
       "    <tr>\n",
       "      <th>0</th>\n",
       "      <td>C:\\Users\\Alex\\Desktop\\dataset\\bay_horse\\0001.jpg</td>\n",
       "      <td>bay_horse</td>\n",
       "      <td>0</td>\n",
       "      <td>2064</td>\n",
       "      <td>2890</td>\n",
       "      <td>3</td>\n",
       "    </tr>\n",
       "    <tr>\n",
       "      <th>1</th>\n",
       "      <td>C:\\Users\\Alex\\Desktop\\dataset\\bay_horse\\0002.jpg</td>\n",
       "      <td>bay_horse</td>\n",
       "      <td>0</td>\n",
       "      <td>1365</td>\n",
       "      <td>2048</td>\n",
       "      <td>3</td>\n",
       "    </tr>\n",
       "    <tr>\n",
       "      <th>2</th>\n",
       "      <td>C:\\Users\\Alex\\Desktop\\dataset\\bay_horse\\0003.jpg</td>\n",
       "      <td>bay_horse</td>\n",
       "      <td>0</td>\n",
       "      <td>850</td>\n",
       "      <td>1332</td>\n",
       "      <td>3</td>\n",
       "    </tr>\n",
       "    <tr>\n",
       "      <th>3</th>\n",
       "      <td>C:\\Users\\Alex\\Desktop\\dataset\\bay_horse\\0004.jpg</td>\n",
       "      <td>bay_horse</td>\n",
       "      <td>0</td>\n",
       "      <td>800</td>\n",
       "      <td>999</td>\n",
       "      <td>3</td>\n",
       "    </tr>\n",
       "    <tr>\n",
       "      <th>4</th>\n",
       "      <td>C:\\Users\\Alex\\Desktop\\dataset\\bay_horse\\0005.jpg</td>\n",
       "      <td>bay_horse</td>\n",
       "      <td>0</td>\n",
       "      <td>380</td>\n",
       "      <td>570</td>\n",
       "      <td>3</td>\n",
       "    </tr>\n",
       "    <tr>\n",
       "      <th>2192</th>\n",
       "      <td>C:\\Users\\Alex\\Desktop\\dataset\\zebra\\1044.jpg</td>\n",
       "      <td>zebra</td>\n",
       "      <td>1</td>\n",
       "      <td>1536</td>\n",
       "      <td>2048</td>\n",
       "      <td>3</td>\n",
       "    </tr>\n",
       "    <tr>\n",
       "      <th>2193</th>\n",
       "      <td>C:\\Users\\Alex\\Desktop\\dataset\\zebra\\1045.jpg</td>\n",
       "      <td>zebra</td>\n",
       "      <td>1</td>\n",
       "      <td>810</td>\n",
       "      <td>1080</td>\n",
       "      <td>3</td>\n",
       "    </tr>\n",
       "    <tr>\n",
       "      <th>2194</th>\n",
       "      <td>C:\\Users\\Alex\\Desktop\\dataset\\zebra\\1046.jpg</td>\n",
       "      <td>zebra</td>\n",
       "      <td>1</td>\n",
       "      <td>540</td>\n",
       "      <td>800</td>\n",
       "      <td>3</td>\n",
       "    </tr>\n",
       "    <tr>\n",
       "      <th>2195</th>\n",
       "      <td>C:\\Users\\Alex\\Desktop\\dataset\\zebra\\1047.jpg</td>\n",
       "      <td>zebra</td>\n",
       "      <td>1</td>\n",
       "      <td>1024</td>\n",
       "      <td>937</td>\n",
       "      <td>3</td>\n",
       "    </tr>\n",
       "    <tr>\n",
       "      <th>2196</th>\n",
       "      <td>C:\\Users\\Alex\\Desktop\\dataset\\zebra\\1048.jpg</td>\n",
       "      <td>zebra</td>\n",
       "      <td>1</td>\n",
       "      <td>1338</td>\n",
       "      <td>1100</td>\n",
       "      <td>3</td>\n",
       "    </tr>\n",
       "  </tbody>\n",
       "</table>\n",
       "</div>"
      ],
      "text/plain": [
       "                                               AbsPath       Name  Class  \\\n",
       "0     C:\\Users\\Alex\\Desktop\\dataset\\bay_horse\\0001.jpg  bay_horse      0   \n",
       "1     C:\\Users\\Alex\\Desktop\\dataset\\bay_horse\\0002.jpg  bay_horse      0   \n",
       "2     C:\\Users\\Alex\\Desktop\\dataset\\bay_horse\\0003.jpg  bay_horse      0   \n",
       "3     C:\\Users\\Alex\\Desktop\\dataset\\bay_horse\\0004.jpg  bay_horse      0   \n",
       "4     C:\\Users\\Alex\\Desktop\\dataset\\bay_horse\\0005.jpg  bay_horse      0   \n",
       "2192      C:\\Users\\Alex\\Desktop\\dataset\\zebra\\1044.jpg      zebra      1   \n",
       "2193      C:\\Users\\Alex\\Desktop\\dataset\\zebra\\1045.jpg      zebra      1   \n",
       "2194      C:\\Users\\Alex\\Desktop\\dataset\\zebra\\1046.jpg      zebra      1   \n",
       "2195      C:\\Users\\Alex\\Desktop\\dataset\\zebra\\1047.jpg      zebra      1   \n",
       "2196      C:\\Users\\Alex\\Desktop\\dataset\\zebra\\1048.jpg      zebra      1   \n",
       "\n",
       "      Height  Width  Depth  \n",
       "0       2064   2890      3  \n",
       "1       1365   2048      3  \n",
       "2        850   1332      3  \n",
       "3        800    999      3  \n",
       "4        380    570      3  \n",
       "2192    1536   2048      3  \n",
       "2193     810   1080      3  \n",
       "2194     540    800      3  \n",
       "2195    1024    937      3  \n",
       "2196    1338   1100      3  "
      ]
     },
     "execution_count": 26,
     "metadata": {},
     "output_type": "execute_result"
    }
   ],
   "source": [
    "def get_image_dimensions(image_path):\n",
    "    image = cv2.imread(image_path)\n",
    "    height, width, depth = image.shape\n",
    "    return height, width, depth\n",
    "df['Height'], df['Width'], df['Depth'] = zip(*df['AbsPath'].map(get_image_dimensions))\n",
    "#df['Height'] = df['AbsPath'].apply(lambda path: cv2.imread(path).shape[0])\n",
    "#df['Width'] = df['AbsPath'].apply(lambda path: cv2.imread(path).shape[1])\n",
    "#df['Depth'] = df['AbsPath'].apply(lambda path: cv2.imread(path).shape[2])\n",
    "pd.concat([df.head(), df.tail()])"
   ]
  },
  {
   "cell_type": "markdown",
   "metadata": {},
   "source": [
    "Выполнение задания 5:"
   ]
  },
  {
   "cell_type": "code",
   "execution_count": 28,
   "metadata": {},
   "outputs": [
    {
     "data": {
      "text/plain": [
       "count    1181.000000\n",
       "mean      989.932261\n",
       "std       635.328718\n",
       "min       176.000000\n",
       "25%       603.000000\n",
       "50%       800.000000\n",
       "75%      1080.000000\n",
       "max      4928.000000\n",
       "Name: Height, dtype: float64"
      ]
     },
     "execution_count": 28,
     "metadata": {},
     "output_type": "execute_result"
    }
   ],
   "source": [
    "df[df['Class'] == 0]['Height'].describe()"
   ]
  },
  {
   "cell_type": "code",
   "execution_count": 29,
   "metadata": {},
   "outputs": [
    {
     "data": {
      "text/plain": [
       "count    1016.000000\n",
       "mean     1392.969488\n",
       "std       802.523282\n",
       "min       391.000000\n",
       "25%       846.250000\n",
       "50%      1152.000000\n",
       "75%      1600.000000\n",
       "max      6000.000000\n",
       "Name: Height, dtype: float64"
      ]
     },
     "execution_count": 29,
     "metadata": {},
     "output_type": "execute_result"
    }
   ],
   "source": [
    "df[df['Class'] == 1]['Height'].describe()"
   ]
  },
  {
   "cell_type": "code",
   "execution_count": 30,
   "metadata": {},
   "outputs": [
    {
     "data": {
      "text/plain": [
       "count    1181.000000\n",
       "mean     1259.309907\n",
       "std       856.335711\n",
       "min       236.000000\n",
       "25%       800.000000\n",
       "50%      1000.000000\n",
       "75%      1300.000000\n",
       "max      7200.000000\n",
       "Name: Width, dtype: float64"
      ]
     },
     "execution_count": 30,
     "metadata": {},
     "output_type": "execute_result"
    }
   ],
   "source": [
    "df[df['Class'] == 0]['Width'].describe()"
   ]
  },
  {
   "cell_type": "code",
   "execution_count": 31,
   "metadata": {},
   "outputs": [
    {
     "data": {
      "text/plain": [
       "count    1016.000000\n",
       "mean     1891.705709\n",
       "std      1134.463343\n",
       "min       530.000000\n",
       "25%      1084.500000\n",
       "50%      1600.000000\n",
       "75%      2048.000000\n",
       "max      6489.000000\n",
       "Name: Width, dtype: float64"
      ]
     },
     "execution_count": 31,
     "metadata": {},
     "output_type": "execute_result"
    }
   ],
   "source": [
    "df[df['Class'] == 1]['Width'].describe()"
   ]
  },
  {
   "cell_type": "code",
   "execution_count": 32,
   "metadata": {},
   "outputs": [
    {
     "data": {
      "text/plain": [
       "count    1181.0\n",
       "mean        3.0\n",
       "std         0.0\n",
       "min         3.0\n",
       "25%         3.0\n",
       "50%         3.0\n",
       "75%         3.0\n",
       "max         3.0\n",
       "Name: Depth, dtype: float64"
      ]
     },
     "execution_count": 32,
     "metadata": {},
     "output_type": "execute_result"
    }
   ],
   "source": [
    "df[df['Class'] == 0]['Depth'].describe()"
   ]
  },
  {
   "cell_type": "code",
   "execution_count": 33,
   "metadata": {},
   "outputs": [
    {
     "data": {
      "text/plain": [
       "count    1016.0\n",
       "mean        3.0\n",
       "std         0.0\n",
       "min         3.0\n",
       "25%         3.0\n",
       "50%         3.0\n",
       "75%         3.0\n",
       "max         3.0\n",
       "Name: Depth, dtype: float64"
      ]
     },
     "execution_count": 33,
     "metadata": {},
     "output_type": "execute_result"
    }
   ],
   "source": [
    "df[df['Class'] == 1]['Depth'].describe()"
   ]
  },
  {
   "cell_type": "markdown",
   "metadata": {},
   "source": [
    "Выполнение задания 6:"
   ]
  },
  {
   "cell_type": "code",
   "execution_count": null,
   "metadata": {},
   "outputs": [],
   "source": [
    "def split_class(df: pd.DataFrame, class_label: int) -> pd.DataFrame:\n",
    "    \"\"\"\n",
    "    receives a dataframe as input and a class label\n",
    "    returns a new dataframe consisting only of elements of this class\n",
    "\n",
    "    Args:\n",
    "        df (pd.DataFrame): default dataframe, in which all instances of the class passed to the function will be found\n",
    "        class_label (int): label of class\n",
    "\n",
    "    Returns:\n",
    "        new_df: a new dataframe consisting only of elements with a class label passed to the function\n",
    "    \"\"\"\n",
    "    new_df = df[df['Class'] == class_label]\n",
    "    new_df.reset_index(drop=True, inplace=True)\n",
    "    return new_df\n",
    "\n",
    "df_bh = split_class(df, 0)\n",
    "pd.concat([df_bh.head(), df_bh.tail()])\n",
    "df_z = split_class(df, 1)\n",
    "pd.concat([df_z.head(), df_z.tail()])"
   ]
  }
 ],
 "metadata": {
  "kernelspec": {
   "display_name": "Python 3",
   "language": "python",
   "name": "python3"
  },
  "language_info": {
   "codemirror_mode": {
    "name": "ipython",
    "version": 3
   },
   "file_extension": ".py",
   "mimetype": "text/x-python",
   "name": "python",
   "nbconvert_exporter": "python",
   "pygments_lexer": "ipython3",
   "version": "3.8.10"
  }
 },
 "nbformat": 4,
 "nbformat_minor": 2
}
